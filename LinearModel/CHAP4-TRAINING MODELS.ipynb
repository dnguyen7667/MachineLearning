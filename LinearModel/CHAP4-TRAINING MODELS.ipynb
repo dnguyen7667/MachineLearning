{
 "cells": [
  {
   "cell_type": "code",
   "execution_count": 121,
   "metadata": {},
   "outputs": [],
   "source": [
    "import numpy as np\n",
    "\n",
    "X= 2*np.random.rand(100,1)\n",
    "y= 4 + 3*X + np.random.randn(100,1)"
   ]
  },
  {
   "cell_type": "code",
   "execution_count": 122,
   "metadata": {},
   "outputs": [
    {
     "data": {
      "image/png": "[encoded data removed]",
      "text/plain": [
       "<Figure size 432x288 with 1 Axes>"
      ]
     },
     "metadata": {
      "needs_background": "light"
     },
     "output_type": "display_data"
    }
   ],
   "source": [
    "import matplotlib.pyplot as plt\n",
    "\n",
    "plt.scatter(X, y)\n",
    "plt.show()"
   ]
  },
  {
   "cell_type": "code",
   "execution_count": 17,
   "metadata": {},
   "outputs": [],
   "source": [
    "#Let's compute theta_hat using the equation\n",
    "#theta_hat = inverse(X_tranpose * X) * X_transpose * y\n",
    "#theta_hat should have dimension of 100 by 1"
   ]
  },
  {
   "cell_type": "code",
   "execution_count": 123,
   "metadata": {},
   "outputs": [],
   "source": [
    "#X should have 100 by 2 by 1 dimension\n",
    "#X_transpose should have 100 by 1\n",
    "\n",
    "X_c = np.c_[np.ones(shape= (100,1)),X]\n",
    "X_transpose = X_c.transpose()\n",
    "theta_best = np.linalg.inv(np.dot(X_transpose, X_c)).dot(X_transpose).dot(y)"
   ]
  },
  {
   "cell_type": "code",
   "execution_count": 124,
   "metadata": {},
   "outputs": [
    {
     "data": {
      "text/plain": [
       "array([[4.25293952],\n",
       "       [2.70622365]])"
      ]
     },
     "execution_count": 124,
     "metadata": {},
     "output_type": "execute_result"
    }
   ],
   "source": [
    "#We hoped for 4 and 3 but noises make it impossible to recover the exact parameters\n",
    "theta_best"
   ]
  },
  {
   "cell_type": "code",
   "execution_count": 110,
   "metadata": {},
   "outputs": [
    {
     "data": {
      "text/plain": [
       "array([[4.12964412],\n",
       "       [9.64158832]])"
      ]
     },
     "execution_count": 110,
     "metadata": {},
     "output_type": "execute_result"
    }
   ],
   "source": [
    "#test our model with new value of x\n",
    "\n",
    "x_new = np.array([[0],[2]])\n",
    "x_new_b = np.c_[np.ones((2,1)), x_new]\n",
    "\n",
    "y_predict = x_new_b.dot(theta_best)\n",
    "y_predict"
   ]
  },
  {
   "cell_type": "code",
   "execution_count": 114,
   "metadata": {},
   "outputs": [
    {
     "data": {
      "image/png": "[encoded data removed]",
      "text/plain": [
       "<Figure size 432x288 with 1 Axes>"
      ]
     },
     "metadata": {
      "needs_background": "light"
     },
     "output_type": "display_data"
    }
   ],
   "source": [
    "plt.plot(x_new, y_predict, 'r-')\n",
    "plt.plot(X,y,'b.')\n",
    "plt.axis([0,2,0,15])\n",
    "plt.show()"
   ]
  },
  {
   "cell_type": "code",
   "execution_count": 126,
   "metadata": {},
   "outputs": [
    {
     "data": {
      "text/plain": [
       "(array([[2.70622365]]), array([4.25293952]))"
      ]
     },
     "execution_count": 126,
     "metadata": {},
     "output_type": "execute_result"
    }
   ],
   "source": [
    "from sklearn.linear_model import LinearRegression\n",
    "lin_reg = LinearRegression()\n",
    "lin_reg.fit(X,y)\n",
    "lin_reg.coef_, lin_reg.intercept_"
   ]
  },
  {
   "cell_type": "code",
   "execution_count": null,
   "metadata": {},
   "outputs": [],
   "source": [
    "#TRY TESTING IT WITH MORE THAN 1 INPUT/ATTRIBUTE TOMORROW"
   ]
  },
  {
   "cell_type": "code",
   "execution_count": 1,
   "metadata": {},
   "outputs": [],
   "source": [
    "import numpy as np\n",
    "\n",
    "def mLinearRegression():\n",
    "    \n",
    "\n"
   ]
  },
  {
   "cell_type": "code",
   "execution_count": 52,
   "metadata": {},
   "outputs": [],
   "source": [
    "X= np.random.rand(100,4)\n",
    "y_rand= np.random.randn(100,1)\n",
    "y= (10 + 3*X[:,0] + 4*X[:,1] + 5*X[:,2] + 6*X[:,3]).reshape(100,1) + y_rand"
   ]
  },
  {
   "cell_type": "code",
   "execution_count": 53,
   "metadata": {},
   "outputs": [],
   "source": [
    "X_b = np.c_[np.ones(shape= (100,1)), X]\n",
    "X_b_transpose = X_b.transpose()\n",
    "theta_best = np.linalg.inv(np.dot(X_b_transpose, X_b)).dot(X_b_transpose).dot(y)"
   ]
  },
  {
   "cell_type": "code",
   "execution_count": 54,
   "metadata": {},
   "outputs": [
    {
     "data": {
      "text/plain": [
       "array([[10.01719785],\n",
       "       [ 2.55384226],\n",
       "       [ 3.85134805],\n",
       "       [ 5.30892627],\n",
       "       [ 6.13497682]])"
      ]
     },
     "execution_count": 54,
     "metadata": {},
     "output_type": "execute_result"
    }
   ],
   "source": [
    "theta_best"
   ]
  },
  {
   "cell_type": "markdown",
   "metadata": {},
   "source": [
    "## <font color= 'red'> GRADIENT DESCENT </font>"
   ]
  },
  {
   "cell_type": "code",
   "execution_count": null,
   "metadata": {},
   "outputs": [],
   "source": [
    "#Idea is to tweak parameters iteratively in order to minimize a cost function\n"
   ]
  },
  {
   "cell_type": "code",
   "execution_count": 5,
   "metadata": {},
   "outputs": [
    {
     "data": {
      "text/plain": [
       "array([[-1.6792239 , -0.19349619,  0.05605715, -0.134408  ,  0.96367051,\n",
       "         1.23586175],\n",
       "       [ 0.36200178,  1.53735298,  0.49935039,  0.90926326, -0.29401543,\n",
       "         0.76302525]])"
      ]
     },
     "execution_count": 5,
     "metadata": {},
     "output_type": "execute_result"
    }
   ],
   "source": [
    "import numpy as np\n",
    "n_epochs = 50\n",
    "t0, t1 = 5, 50\n",
    "\n",
    "def learning_schedule(t):\n",
    "    return t0/(t+t1)\n",
    "\n",
    "theta = np.random.randn(2,1)\n",
    "\n",
    "for epoch in range(n_epochs):\n",
    "    for i range(m):\n",
    "        random_index= np.random.randint(m)\n",
    "        xi= X_b"
   ]
  },
  {
   "cell_type": "code",
   "execution_count": 8,
   "metadata": {},
   "outputs": [
    {
     "data": {
      "text/plain": [
       "array([1740])"
      ]
     },
     "execution_count": 8,
     "metadata": {},
     "output_type": "execute_result"
    }
   ],
   "source": [
    "m= 10000\n",
    "a = np.arange(m)\n",
    "random_ix = np.random.randint(m)\n",
    "\n",
    "a = a[random_ix:random_ix+1]\n",
    "a"
   ]
  },
  {
   "cell_type": "code",
   "execution_count": 9,
   "metadata": {},
   "outputs": [],
   "source": [
    "from sklearn.linear_model import SGDRegressor\n",
    "\n",
    "?SGDRegressor"
   ]
  },
  {
   "cell_type": "code",
   "execution_count": 18,
   "metadata": {},
   "outputs": [],
   "source": [
    "?np.ravel"
   ]
  },
  {
   "cell_type": "code",
   "execution_count": 12,
   "metadata": {},
   "outputs": [
    {
     "data": {
      "text/plain": [
       "array([[ 0,  1,  2,  3,  4],\n",
       "       [ 5,  6,  7,  8,  9],\n",
       "       [10, 11, 12, 13, 14]])"
      ]
     },
     "execution_count": 12,
     "metadata": {},
     "output_type": "execute_result"
    }
   ],
   "source": [
    "a = np.arange(15).reshape(3,5)\n",
    "a"
   ]
  },
  {
   "cell_type": "code",
   "execution_count": 17,
   "metadata": {},
   "outputs": [
    {
     "data": {
      "text/plain": [
       "array([ 0,  1,  2,  3,  4,  5,  6,  7,  8,  9, 10, 11, 12, 13, 14])"
      ]
     },
     "execution_count": 17,
     "metadata": {},
     "output_type": "execute_result"
    }
   ],
   "source": [
    "a.ravel()"
   ]
  },
  {
   "cell_type": "code",
   "execution_count": 42,
   "metadata": {},
   "outputs": [
    {
     "data": {
      "image/png": "[encoded data removed]",
      "text/plain": [
       "<Figure size 432x288 with 1 Axes>"
      ]
     },
     "metadata": {
      "needs_background": "light"
     },
     "output_type": "display_data"
    }
   ],
   "source": [
    "#POLYNOMIAL REGRESSION\n",
    "\n",
    "m= 100\n",
    "X= 6*np.random.rand(m,1) - 3\n",
    "y= 0.5*X**2 + X + 2 + np.random.randn(m,1)\n",
    "\n",
    "import matplotlib.pyplot as plt\n",
    "\n",
    "plt.scatter(X,y)\n",
    "plt.show()"
   ]
  },
  {
   "cell_type": "code",
   "execution_count": 29,
   "metadata": {},
   "outputs": [
    {
     "data": {
      "text/plain": [
       "array([-0.44359351,  0.1967752 ])"
      ]
     },
     "execution_count": 29,
     "metadata": {},
     "output_type": "execute_result"
    }
   ],
   "source": []
  },
  {
   "cell_type": "code",
   "execution_count": null,
   "metadata": {},
   "outputs": [],
   "source": []
  },
  {
   "cell_type": "code",
   "execution_count": 53,
   "metadata": {},
   "outputs": [
    {
     "data": {
      "image/png": "[encoded data removed]",
      "text/plain": [
       "<Figure size 432x288 with 1 Axes>"
      ]
     },
     "metadata": {
      "needs_background": "light"
     },
     "output_type": "display_data"
    }
   ],
   "source": [
    "from sklearn.model_selection import train_test_split\n",
    "from sklearn.metrics import mean_squared_error\n",
    "from sklearn.pipeline import Pipeline\n",
    "from sklearn.linear_model import LinearRegression\n",
    "from sklearn.preprocessing import PolynomialFeatures\n",
    "\n",
    "def plot_learning_curve(model, X, y):\n",
    "    X_train, X_val, y_train, y_val= train_test_split(X, y, test_size= 0.2)\n",
    "    train_errors, val_errors= [], []\n",
    "    for m in range(1, len(y)):\n",
    "        model.fit(X_train[:m], y_train[:m])\n",
    "        y_train_predict= model.predict(X_train[:m])\n",
    "        y_val_predict= model.predict(X_val)\n",
    "        train_errors.append(mean_squared_error(y_train_predict, y_train[:m]))\n",
    "        val_errors.append(mean_squared_error(y_val_predict, y_val))\n",
    "    plt.plot(np.sqrt(train_errors), 'r-+', linewidth= 2, label= \"train\")\n",
    "    plt.plot(np.sqrt(val_errors), 'b-', linewidth= 3, label= \"val\") \n",
    "    plt.xlim((0,100))\n",
    "    plt.ylim((0,2))\n",
    "    plt.show()\n",
    "\n",
    "\n",
    "polynomial_regression= Pipeline([\n",
    "                            (\"poly_features\", PolynomialFeatures(degree= 10, include_bias= False)),\n",
    "                            (\"lin_reg\", LinearRegression())])\n",
    "plot_learning_curve(polynomial_regression, X, y)"
   ]
  },
  {
   "cell_type": "code",
   "execution_count": 1,
   "metadata": {},
   "outputs": [],
   "source": [
    "from sklearn.linear_model import Ridge\n",
    "\n",
    "?Ridge"
   ]
  },
  {
   "cell_type": "code",
   "execution_count": 2,
   "metadata": {},
   "outputs": [],
   "source": [
    "from sklearn.preprocessing import PolynomialFeatures\n",
    "\n",
    "poly= PolynomialFeatures(degree= 3)\n",
    "?poly"
   ]
  },
  {
   "cell_type": "code",
   "execution_count": 11,
   "metadata": {},
   "outputs": [
    {
     "data": {
      "text/plain": [
       "(100, 1)"
      ]
     },
     "execution_count": 11,
     "metadata": {},
     "output_type": "execute_result"
    }
   ],
   "source": [
    "import numpy as np\n",
    "import pandas as pd\n",
    "\n",
    "y= np.arange(100).reshape((100,1))\n",
    "y.shape\n"
   ]
  },
  {
   "cell_type": "code",
   "execution_count": 19,
   "metadata": {},
   "outputs": [],
   "source": [
    "from sklearn.base import clone\n",
    "\n",
    "?clone"
   ]
  },
  {
   "cell_type": "code",
   "execution_count": 8,
   "metadata": {},
   "outputs": [],
   "source": [
    "import numpy as np\n",
    "import pandas as pd\n",
    "import random\n",
    "\n",
    "\n",
    "#START Function make_X_b\n",
    "def make_X_b(inputs):\n",
    "    \"\"\" This function is to \"add 1 to the front of each training instances\"\"\"\n",
    "    #if X is data frame\n",
    "    #then just get\n",
    "    mInputs= inputs.copy()\n",
    "    if (type(mInputs)== pd.DataFrame):\n",
    "        X= mInputs.values #get values in a np array form\n",
    "            #self.num_attributes= self.X.shape[1] #get number of attributes\n",
    "    else: #if inputs is already np array\n",
    "        X= mInputs\n",
    "            \n",
    "    return np.c_[np.ones(shape= X.shape[0]), X] #add 1 to the begining of each element of X\n",
    "#END Function make_X_b\n",
    "\n",
    "\n"
   ]
  },
  {
   "cell_type": "code",
   "execution_count": 35,
   "metadata": {},
   "outputs": [],
   "source": [
    "\n",
    "class mSGD:\n",
    "    \"\"\"Sochastic Gradient Descent\n",
    "    This is a faster version of Batch Gradient Descent.\n",
    "    Instead of taking the whole \"batch\" (dataset) to train, we only randomly take 1 instance at once.\n",
    "    Advantages: SGD has better chance to \"jump\" out of local optimal than Batch Gradient Descent.\n",
    "    Disadvantages: Instead of steadily moving towards the global minimum,\n",
    "        SGD cost function will bounce up and down, decreasing only on average -> result is good but not optimal.\n",
    "        Solution: Set learning rate (eta) smaller and smaller each time so the model will settle down eventually\"\"\"\n",
    "    \n",
    "    def __init__(self, eta= 0.1, max_iter= 1000):\n",
    "        self.max_iter= max_iter\n",
    "        \n",
    "        \n",
    "    def fit(self, inputs, output):\n",
    "        \n",
    "        #convert X and y\n",
    "        self.X_b= make_X_b(inputs)\n",
    "        self.y= np.array(output).copy().reshape(-1,1)\n",
    "        \n",
    "        self.num_instances= len(self.y) #number of training instances\n",
    "        self.num_dim= self.X_b.shape[1] #number of dimensions(attributes)\n",
    "        \n",
    "        #initial eta\n",
    "        def learning_schedule(num):\n",
    "            return 5/(50+num)\n",
    "        \n",
    "        self.theta_hat= np.random.randn(self.num_dim, 1)\n",
    "        \n",
    "        for i in range (self.max_iter):\n",
    "            rand_ix= np.random.randint(low=0, high=self.num_instances-1)\n",
    "          \n",
    "            random_X_b= self.X_b[rand_ix: rand_ix+1]\n",
    "            random_X= random_X_b.T\n",
    "            random_y= self.y[rand_ix: rand_ix+1]\n",
    "            \n",
    "            eta= learning_schedule(i) #decreasing eta every step\n",
    "            \n",
    "            #Delta of all gradients of each features\n",
    "            del_mse= 2*random_X.dot(random_X_b.dot(self.theta_hat) - random_y)\n",
    "            self.theta_hat= self.theta_hat - eta*del_mse   \n",
    "        \n",
    "        print(\"Thetas= \", self.theta_hat)\n",
    "        "
   ]
  },
  {
   "cell_type": "code",
   "execution_count": 36,
   "metadata": {},
   "outputs": [],
   "source": [
    "X = 2 * np.random.rand(10000, 1)\n",
    "y = 4 + 3 * X + np.random.randn(10000, 1)"
   ]
  },
  {
   "cell_type": "code",
   "execution_count": 54,
   "metadata": {},
   "outputs": [
    {
     "name": "stdout",
     "output_type": "stream",
     "text": [
      "Thetas=  [[4.16825802]\n",
      " [3.02556998]]\n"
     ]
    }
   ],
   "source": [
    "my_SGD= mSGD(max_iter=1500)\n",
    "\n",
    "my_SGD.fit(X,y)"
   ]
  },
  {
   "cell_type": "code",
   "execution_count": null,
   "metadata": {},
   "outputs": [],
   "source": []
  },
  {
   "cell_type": "code",
   "execution_count": null,
   "metadata": {},
   "outputs": [],
   "source": []
  }
 ],
 "metadata": {
  "kernelspec": {
   "display_name": "Python 3",
   "language": "python",
   "name": "python3"
  },
  "language_info": {
   "codemirror_mode": {
    "name": "ipython",
    "version": 3
   },
   "file_extension": ".py",
   "mimetype": "text/x-python",
   "name": "python",
   "nbconvert_exporter": "python",
   "pygments_lexer": "ipython3",
   "version": "3.6.5"
  }
 },
 "nbformat": 4,
 "nbformat_minor": 2
}
